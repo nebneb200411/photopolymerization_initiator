{
 "cells": [
  {
   "cell_type": "markdown",
   "id": "3b4fa629",
   "metadata": {},
   "source": [
    "Gaussian sequential calculation"
   ]
  },
  {
   "cell_type": "code",
   "execution_count": null,
   "id": "498c4a2a",
   "metadata": {},
   "outputs": [],
   "source": [
    "from gaussian.calc import GaussianSequentialCalculationFromSmiles"
   ]
  },
  {
   "cell_type": "code",
   "execution_count": null,
   "id": "8e42af94",
   "metadata": {},
   "outputs": [],
   "source": [
    "# 何らかの方法で計算したい化合物のSmilesのリストを作成\n",
    "smiles = []"
   ]
  },
  {
   "cell_type": "code",
   "execution_count": null,
   "id": "cc42b28a",
   "metadata": {},
   "outputs": [],
   "source": [
    "BASE_DIR = \"\"\n",
    "for s in smiles:\n",
    "    CONDITIONS = {\n",
    "        # example\n",
    "        '1': '# pm6 geom=connectivity', # set geom=connectivity if you write connectivity on gjffile\n",
    "        '2': '# opt b3lyp/6-31G(d) geom=allcheck guess=read',\n",
    "        '3': '# freq b3lyp/6-31G(d) geom=allcheck guess=read',\n",
    "        '4': '# td=(singlets, Nstates=10) b3lyp/6-311+G(2d,p) geom=allcheck guess=read'\n",
    "    }\n",
    "    GaussianSequentialCalculationFromSmiles(BASE_DIR, s, CONDITIONS, connectivity=True, Nprocshared='8', mem='4GB')"
   ]
  },
  {
   "cell_type": "markdown",
   "id": "b46d5728",
   "metadata": {},
   "source": [
    "Gaussian Sequential from existing gjf file"
   ]
  },
  {
   "cell_type": "code",
   "execution_count": null,
   "id": "46eb1b54",
   "metadata": {},
   "outputs": [],
   "source": [
    "from gaussian.calc import GaussianSequentialCalculation\n",
    "import os\n",
    "import glob.glob"
   ]
  },
  {
   "cell_type": "code",
   "execution_count": null,
   "id": "d3fb28c5",
   "metadata": {},
   "outputs": [],
   "source": [
    "# 何らかの方法でgjfファイルを取得\n",
    "BASE_DIR = \"\"\n",
    "gjfs = glob(os.path.join(BASE_DIR, '*.gjf'))\n",
    "print(len(gjfs))"
   ]
  },
  {
   "cell_type": "code",
   "execution_count": null,
   "id": "864bffef",
   "metadata": {},
   "outputs": [],
   "source": [
    "charge_and_mult = '0 1'\n",
    "for gjf in gjfs:\n",
    "    CONDITIONS = {\n",
    "        # example\n",
    "        # set geom=connectivity if you write connectivity on gjffile\n",
    "        '1': '# pm6 geom=connectivity',\n",
    "        '2': '# opt b3lyp/6-31G(d) geom=allcheck guess=read',\n",
    "        '3': '# freq b3lyp/6-31G(d) geom=allcheck guess=read',\n",
    "        '4': '# td=(singlets, Nstates=10) b3lyp/6-311+G(2d,p) geom=allcheck guess=read'\n",
    "    }\n",
    "    smiles = os.path.basename(gjf).split('_')[0]\n",
    "    GaussianSequentialCalculation(\n",
    "        base_dir=BASE_DIR, smiles=smiles, calc_conditions=CONDITIONS, charge_and_mult=charge_and_mult, fchk=True, Mem='4GB', Nprocshared='8')\n"
   ]
  },
  {
   "cell_type": "markdown",
   "id": "4264fa83",
   "metadata": {},
   "source": [
    "Gaussian Sequential Calculation From existing chk file"
   ]
  },
  {
   "cell_type": "code",
   "execution_count": null,
   "id": "060d2ecc",
   "metadata": {},
   "outputs": [],
   "source": [
    "from gaussian.calc import calculate_from_oldchk\n",
    "import glob.glob\n"
   ]
  },
  {
   "cell_type": "code",
   "execution_count": null,
   "id": "9b9353ef",
   "metadata": {},
   "outputs": [],
   "source": [
    "BASE_DIR = \"\"\n",
    "chks = glob(os.path.join(BASE_DIR, '*.chk'))"
   ]
  },
  {
   "cell_type": "code",
   "execution_count": null,
   "id": "e6b1a23c",
   "metadata": {},
   "outputs": [],
   "source": [
    "CALC_CONDITION = \"\"\n",
    "charge_and_mult = \"0 1\"\n",
    "for chk in chks:\n",
    "    smiles = os.path.basename(gjf).split('_')[0]\n",
    "    calculate_from_oldchk(smiles=smiles, base_dir=BASE_DIR, oldchk=chk, calc_condition=calc_condition,\n",
    "                          charge_and_mult=charge_and_mult, Mem='6GB', Nprocshared='10')\n"
   ]
  }
 ],
 "metadata": {
  "kernelspec": {
   "display_name": "Python 3",
   "language": "python",
   "name": "python3"
  },
  "language_info": {
   "codemirror_mode": {
    "name": "ipython",
    "version": 3
   },
   "file_extension": ".py",
   "mimetype": "text/x-python",
   "name": "python",
   "nbconvert_exporter": "python",
   "pygments_lexer": "ipython3",
   "version": "3.9.12"
  }
 },
 "nbformat": 4,
 "nbformat_minor": 5
}
